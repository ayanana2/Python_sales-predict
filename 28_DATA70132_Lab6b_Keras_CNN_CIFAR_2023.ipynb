{
  "cells": [
    {
      "cell_type": "markdown",
      "metadata": {
        "id": "m_SLMzgGIpjE"
      },
      "source": [
        "Increase the layers (Refer from very deep convolutional...)\n",
        "=========\n",
        "**the number of try = 28**\n",
        "epochを80に変更\n"
      ]
    },
    {
      "cell_type": "code",
      "execution_count": 1,
      "metadata": {
        "colab": {
          "base_uri": "https://localhost:8080/"
        },
        "id": "x595vK3pIpjN",
        "outputId": "09a2c5f6-42b0-4ad9-bed3-d9b15a36f5d0"
      },
      "outputs": [
        {
          "output_type": "stream",
          "name": "stdout",
          "text": [
            "Libraries imported.\n"
          ]
        }
      ],
      "source": [
        "# importing of modules for CIFAR-10 CNN \n",
        "from tensorflow.keras.datasets import cifar10\n",
        "from tensorflow.keras import utils\n",
        "from tensorflow.keras.models import Sequential\n",
        "from tensorflow.keras.layers import Dense, Dropout, Activation, Flatten\n",
        "from tensorflow.keras.layers import Conv2D, MaxPooling2D\n",
        "from tensorflow.keras.optimizers.legacy import SGD, Adam, RMSprop\n",
        "\n",
        "# importing of service libraries\n",
        "import numpy as np\n",
        "import matplotlib.pyplot as plt\n",
        "\n",
        "print('Libraries imported.')"
      ]
    },
    {
      "cell_type": "markdown",
      "metadata": {
        "id": "Wx5--x5hIpjV"
      },
      "source": [
        "The following constant and variable definitions are needed for the network and training parameters.\n"
      ]
    },
    {
      "cell_type": "code",
      "execution_count": 12,
      "metadata": {
        "colab": {
          "base_uri": "https://localhost:8080/"
        },
        "id": "O1SvoRcMIpjX",
        "outputId": "a82a37f5-909c-43c0-e9cb-2617b14f9a95"
      },
      "outputs": [
        {
          "output_type": "stream",
          "name": "stdout",
          "text": [
            "Main variables initialised.\n"
          ]
        },
        {
          "output_type": "stream",
          "name": "stderr",
          "text": [
            "/usr/local/lib/python3.9/dist-packages/keras/optimizers/legacy/gradient_descent.py:114: UserWarning: The `lr` argument is deprecated, use `learning_rate` instead.\n",
            "  super().__init__(name, **kwargs)\n"
          ]
        }
      ],
      "source": [
        "#training constants\n",
        "BATCH_SIZE = 32 #originally 128\n",
        "N_EPOCH = 40 # use 20 for best initial results\n",
        "N_CLASSES = 10\n",
        "VERBOSE = 1\n",
        "VALIDATION_SPLIT = 0.2\n",
        "OPTIM = SGD(lr=0.01, decay=1e-6, momentum=0.9, nesterov=True)\n",
        "\n",
        "print('Main variables initialised.')"
      ]
    },
    {
      "cell_type": "markdown",
      "metadata": {
        "id": "KpuekS__Ipjd"
      },
      "source": [
        "Constant definition for the training set images"
      ]
    },
    {
      "cell_type": "code",
      "execution_count": 13,
      "metadata": {
        "colab": {
          "base_uri": "https://localhost:8080/"
        },
        "id": "DWaibn5BIpje",
        "outputId": "4f0d1a4b-5d37-479d-b696-f3efffadedfd"
      },
      "outputs": [
        {
          "output_type": "stream",
          "name": "stdout",
          "text": [
            "Image variables initialisation\n"
          ]
        }
      ],
      "source": [
        "# CIFAR_10 is a set of 60K images 32x32 pixels on 3 channels\n",
        "IMG_CHANNELS = 3\n",
        "IMG_ROWS = 32\n",
        "IMG_COLS = 32\n",
        "\n",
        "print('Image variables initialisation')"
      ]
    },
    {
      "cell_type": "markdown",
      "metadata": {
        "id": "QcOhLgJ8Ipjk"
      },
      "source": [
        "__CIFAR-10 data loading and processing__\n",
        "\n",
        "Loading and preparation of the CIFAR-10 training set."
      ]
    },
    {
      "cell_type": "code",
      "execution_count": 14,
      "metadata": {
        "colab": {
          "base_uri": "https://localhost:8080/"
        },
        "id": "uVzGwn80Ipjm",
        "outputId": "af73fbfc-7828-44bd-acbf-68d820e8942b"
      },
      "outputs": [
        {
          "output_type": "stream",
          "name": "stdout",
          "text": [
            "input_X_train shape: (50000, 32, 32, 3)\n",
            "50000 train samples\n",
            "10000 test samples\n"
          ]
        }
      ],
      "source": [
        "#load dataset\n",
        "(input_X_train, output_y_train), (input_X_test, output_y_test) = cifar10.load_data()\n",
        "print('input_X_train shape:', input_X_train.shape)\n",
        "print(input_X_train.shape[0], 'train samples')\n",
        "print(input_X_test.shape[0], 'test samples')\n",
        " \n",
        "# convert to categorical\n",
        "output_Y_train = utils.to_categorical(output_y_train, N_CLASSES)\n",
        "output_Y_test = utils.to_categorical(output_y_test, N_CLASSES) \n",
        "\n",
        "# float and normalization\n",
        "input_X_train = input_X_train.astype('float32')\n",
        "input_X_test = input_X_test.astype('float32')\n",
        "input_X_train /= 255\n",
        "input_X_test /= 255\n"
      ]
    },
    {
      "cell_type": "code",
      "source": [
        "#20以降で使う\n",
        "from tensorflow.keras.preprocessing.image import ImageDataGenerator\n",
        "\n",
        "train_datagen = ImageDataGenerator(zca_whitening=True)\n",
        "train_datagen.fit(input_X_train)\n",
        "train_generator = train_datagen.flow(input_X_train, output_Y_train, batch_size=len(input_X_train))\n",
        "#batch_size=len(input_X_train))\n",
        "x_train_gen, y_train_gen = train_generator.next()\n",
        "\n",
        "test_datagen = ImageDataGenerator(zca_whitening=True)\n",
        "test_datagen.fit(input_X_test)\n",
        "test_generator = train_datagen.flow(input_X_test, output_Y_test, batch_size=len(input_X_test))\n",
        "x_test_gen, y_test_gen = test_generator.next()"
      ],
      "metadata": {
        "id": "jZHX6fpxbbWl",
        "colab": {
          "base_uri": "https://localhost:8080/"
        },
        "outputId": "89b6027e-c259-4ae8-80d4-75c2755cbd5d"
      },
      "execution_count": 5,
      "outputs": [
        {
          "output_type": "stream",
          "name": "stderr",
          "text": [
            "/usr/local/lib/python3.9/dist-packages/keras/preprocessing/image.py:1444: UserWarning: This ImageDataGenerator specifies `zca_whitening`, which overrides setting of `featurewise_center`.\n",
            "  warnings.warn(\n"
          ]
        }
      ]
    },
    {
      "cell_type": "markdown",
      "metadata": {
        "id": "1o9i5nqDIpkO"
      },
      "source": [
        "A deeper CNN\n",
        "-------------\n",
        "\n",
        "\n"
      ]
    },
    {
      "cell_type": "code",
      "execution_count": 17,
      "metadata": {
        "colab": {
          "base_uri": "https://localhost:8080/"
        },
        "id": "VmaK6n4AIpkP",
        "outputId": "7f2b714d-d79a-4585-bb31-499c871c9061"
      },
      "outputs": [
        {
          "output_type": "stream",
          "name": "stdout",
          "text": [
            "Model: \"sequential_2\"\n",
            "_________________________________________________________________\n",
            " Layer (type)                Output Shape              Param #   \n",
            "=================================================================\n",
            " conv2d_12 (Conv2D)          (None, 32, 32, 32)        896       \n",
            "                                                                 \n",
            " activation_18 (Activation)  (None, 32, 32, 32)        0         \n",
            "                                                                 \n",
            " conv2d_13 (Conv2D)          (None, 32, 32, 32)        9248      \n",
            "                                                                 \n",
            " batch_normalization_10 (Bat  (None, 32, 32, 32)       128       \n",
            " chNormalization)                                                \n",
            "                                                                 \n",
            " activation_19 (Activation)  (None, 32, 32, 32)        0         \n",
            "                                                                 \n",
            " max_pooling2d_6 (MaxPooling  (None, 16, 16, 32)       0         \n",
            " 2D)                                                             \n",
            "                                                                 \n",
            " dropout_10 (Dropout)        (None, 16, 16, 32)        0         \n",
            "                                                                 \n",
            " conv2d_14 (Conv2D)          (None, 16, 16, 64)        18496     \n",
            "                                                                 \n",
            " batch_normalization_11 (Bat  (None, 16, 16, 64)       256       \n",
            " chNormalization)                                                \n",
            "                                                                 \n",
            " activation_20 (Activation)  (None, 16, 16, 64)        0         \n",
            "                                                                 \n",
            " conv2d_15 (Conv2D)          (None, 5, 5, 64)          36928     \n",
            "                                                                 \n",
            " batch_normalization_12 (Bat  (None, 5, 5, 64)         256       \n",
            " chNormalization)                                                \n",
            "                                                                 \n",
            " activation_21 (Activation)  (None, 5, 5, 64)          0         \n",
            "                                                                 \n",
            " max_pooling2d_7 (MaxPooling  (None, 2, 2, 64)         0         \n",
            " 2D)                                                             \n",
            "                                                                 \n",
            " dropout_11 (Dropout)        (None, 2, 2, 64)          0         \n",
            "                                                                 \n",
            " conv2d_16 (Conv2D)          (None, 2, 2, 128)         73856     \n",
            "                                                                 \n",
            " activation_22 (Activation)  (None, 2, 2, 128)         0         \n",
            "                                                                 \n",
            " conv2d_17 (Conv2D)          (None, 2, 2, 128)         147584    \n",
            "                                                                 \n",
            " activation_23 (Activation)  (None, 2, 2, 128)         0         \n",
            "                                                                 \n",
            " max_pooling2d_8 (MaxPooling  (None, 1, 1, 128)        0         \n",
            " 2D)                                                             \n",
            "                                                                 \n",
            " dropout_12 (Dropout)        (None, 1, 1, 128)         0         \n",
            "                                                                 \n",
            " flatten_2 (Flatten)         (None, 128)               0         \n",
            "                                                                 \n",
            " dense_6 (Dense)             (None, 512)               66048     \n",
            "                                                                 \n",
            " batch_normalization_13 (Bat  (None, 512)              2048      \n",
            " chNormalization)                                                \n",
            "                                                                 \n",
            " activation_24 (Activation)  (None, 512)               0         \n",
            "                                                                 \n",
            " dropout_13 (Dropout)        (None, 512)               0         \n",
            "                                                                 \n",
            " dense_7 (Dense)             (None, 512)               262656    \n",
            "                                                                 \n",
            " batch_normalization_14 (Bat  (None, 512)              2048      \n",
            " chNormalization)                                                \n",
            "                                                                 \n",
            " activation_25 (Activation)  (None, 512)               0         \n",
            "                                                                 \n",
            " dropout_14 (Dropout)        (None, 512)               0         \n",
            "                                                                 \n",
            " dense_8 (Dense)             (None, 10)                5130      \n",
            "                                                                 \n",
            " activation_26 (Activation)  (None, 10)                0         \n",
            "                                                                 \n",
            "=================================================================\n",
            "Total params: 625,578\n",
            "Trainable params: 623,210\n",
            "Non-trainable params: 2,368\n",
            "_________________________________________________________________\n"
          ]
        }
      ],
      "source": [
        "# REUSE THE SAME INITIALISATION CODE AND THE TRAINING AND TEST DATA SET LOADING OPERATION\n",
        "\n",
        "N_EPOCH = 80 # 40 bigger network will benefit from extra training epochs\n",
        "from tensorflow.keras.layers import BatchNormalization\n",
        "from tensorflow.keras import regularizers\n",
        "# Complex DNN model definition\n",
        "model = Sequential()\n",
        " \n",
        "model.add(Conv2D(32, kernel_size=3, padding='same', input_shape=(IMG_ROWS, IMG_COLS, IMG_CHANNELS)))\n",
        "model.add(Activation('relu'))\n",
        "model.add(Conv2D(32, kernel_size=3, padding='same'))\n",
        "model.add(BatchNormalization())\n",
        "model.add(Activation('relu'))\n",
        "model.add(MaxPooling2D(pool_size=(2, 2)))\n",
        "model.add(Dropout(0.30))\n",
        " \n",
        "model.add(Conv2D(64, kernel_size=3, padding='same'))\n",
        "model.add(BatchNormalization())\n",
        "model.add(Activation('relu'))\n",
        "model.add(Conv2D(64, 3, 3)) #0.0005\n",
        "model.add(BatchNormalization())\n",
        "model.add(Activation('relu'))\n",
        "model.add(MaxPooling2D(pool_size=(2, 2)))\n",
        "model.add(Dropout(0.30))\n",
        "\n",
        "model.add(Conv2D(128, kernel_size=3,padding='same'))\n",
        "model.add(Activation('relu'))\n",
        "model.add(Conv2D(128, kernel_size=3,kernel_regularizer=regularizers.l2(0.001), padding='same'))\n",
        "model.add(Activation('relu'))\n",
        "model.add(MaxPooling2D(pool_size=(2, 2)))\n",
        "model.add(Dropout(0.30))\n",
        "\n",
        "model.add(Flatten())\n",
        "model.add(Dense(512))\n",
        "model.add(BatchNormalization())\n",
        "model.add(Activation('relu'))\n",
        "model.add(Dropout(0.5))\n",
        "model.add(Dense(512))\n",
        "model.add(BatchNormalization())\n",
        "model.add(Activation('relu'))\n",
        "model.add(Dropout(0.5))\n",
        "model.add(Dense(N_CLASSES))\n",
        "model.add(Activation('softmax'))\n",
        "\n",
        "\n",
        "#optim = SGD(lr=0.01, decay=1e-6, momentum=0.9, nesterov=True)\n",
        "model.compile(loss='categorical_crossentropy', optimizer=OPTIM, metrics=['accuracy'])\n",
        "\n",
        "model.summary()\n",
        " \n"
      ]
    },
    {
      "cell_type": "markdown",
      "metadata": {
        "id": "N_WU_cUNkmr-"
      },
      "source": [
        "**Training of the deeper CNN**\n",
        "\n",
        "Let's train (fit) this new model.\n",
        "\n"
      ]
    },
    {
      "cell_type": "code",
      "execution_count": 18,
      "metadata": {
        "colab": {
          "base_uri": "https://localhost:8080/"
        },
        "id": "ctRJSHkVkmr_",
        "outputId": "1ce2fd77-a3eb-4277-bcfe-778c4665e9a2"
      },
      "outputs": [
        {
          "output_type": "stream",
          "name": "stdout",
          "text": [
            "Epoch 1/80\n",
            "1250/1250 [==============================] - 11s 8ms/step - loss: 2.3654 - accuracy: 0.2057 - val_loss: 1.8024 - val_accuracy: 0.3511\n",
            "Epoch 2/80\n",
            "1250/1250 [==============================] - 9s 7ms/step - loss: 1.7958 - accuracy: 0.3568 - val_loss: 1.6581 - val_accuracy: 0.4124\n",
            "Epoch 3/80\n",
            "1250/1250 [==============================] - 9s 8ms/step - loss: 1.5475 - accuracy: 0.4618 - val_loss: 1.3980 - val_accuracy: 0.5274\n",
            "Epoch 4/80\n",
            "1250/1250 [==============================] - 9s 7ms/step - loss: 1.4039 - accuracy: 0.5184 - val_loss: 1.2891 - val_accuracy: 0.5559\n",
            "Epoch 5/80\n",
            "1250/1250 [==============================] - 10s 8ms/step - loss: 1.3084 - accuracy: 0.5527 - val_loss: 1.0891 - val_accuracy: 0.6198\n",
            "Epoch 6/80\n",
            "1250/1250 [==============================] - 9s 7ms/step - loss: 1.2356 - accuracy: 0.5849 - val_loss: 1.0882 - val_accuracy: 0.6324\n",
            "Epoch 7/80\n",
            "1250/1250 [==============================] - 9s 7ms/step - loss: 1.1885 - accuracy: 0.6007 - val_loss: 1.0414 - val_accuracy: 0.6433\n",
            "Epoch 8/80\n",
            "1250/1250 [==============================] - 9s 7ms/step - loss: 1.1448 - accuracy: 0.6170 - val_loss: 1.0085 - val_accuracy: 0.6499\n",
            "Epoch 9/80\n",
            "1250/1250 [==============================] - 10s 8ms/step - loss: 1.1074 - accuracy: 0.6365 - val_loss: 1.1177 - val_accuracy: 0.6294\n",
            "Epoch 10/80\n",
            "1250/1250 [==============================] - 9s 8ms/step - loss: 1.0837 - accuracy: 0.6421 - val_loss: 0.9457 - val_accuracy: 0.6777\n",
            "Epoch 11/80\n",
            "1250/1250 [==============================] - 9s 7ms/step - loss: 1.0569 - accuracy: 0.6535 - val_loss: 0.9308 - val_accuracy: 0.6859\n",
            "Epoch 12/80\n",
            "1250/1250 [==============================] - 9s 8ms/step - loss: 1.0362 - accuracy: 0.6584 - val_loss: 0.9437 - val_accuracy: 0.6851\n",
            "Epoch 13/80\n",
            "1250/1250 [==============================] - 9s 7ms/step - loss: 1.0135 - accuracy: 0.6682 - val_loss: 1.0035 - val_accuracy: 0.6617\n",
            "Epoch 14/80\n",
            "1250/1250 [==============================] - 9s 7ms/step - loss: 0.9988 - accuracy: 0.6774 - val_loss: 0.9096 - val_accuracy: 0.6943\n",
            "Epoch 15/80\n",
            "1250/1250 [==============================] - 9s 7ms/step - loss: 0.9787 - accuracy: 0.6819 - val_loss: 0.9090 - val_accuracy: 0.6869\n",
            "Epoch 16/80\n",
            "1250/1250 [==============================] - 9s 7ms/step - loss: 0.9644 - accuracy: 0.6886 - val_loss: 0.8990 - val_accuracy: 0.6959\n",
            "Epoch 17/80\n",
            "1250/1250 [==============================] - 10s 8ms/step - loss: 0.9461 - accuracy: 0.6937 - val_loss: 0.8666 - val_accuracy: 0.7117\n",
            "Epoch 18/80\n",
            "1250/1250 [==============================] - 9s 8ms/step - loss: 0.9375 - accuracy: 0.7001 - val_loss: 0.8771 - val_accuracy: 0.7097\n",
            "Epoch 19/80\n",
            "1250/1250 [==============================] - 9s 7ms/step - loss: 0.9231 - accuracy: 0.7038 - val_loss: 0.8267 - val_accuracy: 0.7255\n",
            "Epoch 20/80\n",
            "1250/1250 [==============================] - 9s 7ms/step - loss: 0.9160 - accuracy: 0.7061 - val_loss: 0.9455 - val_accuracy: 0.6819\n",
            "Epoch 21/80\n",
            "1250/1250 [==============================] - 10s 8ms/step - loss: 0.8968 - accuracy: 0.7135 - val_loss: 0.8293 - val_accuracy: 0.7245\n",
            "Epoch 22/80\n",
            "1250/1250 [==============================] - 10s 8ms/step - loss: 0.8972 - accuracy: 0.7118 - val_loss: 0.8150 - val_accuracy: 0.7296\n",
            "Epoch 23/80\n",
            "1250/1250 [==============================] - 9s 7ms/step - loss: 0.8824 - accuracy: 0.7166 - val_loss: 0.7668 - val_accuracy: 0.7492\n",
            "Epoch 24/80\n",
            "1250/1250 [==============================] - 9s 7ms/step - loss: 0.8678 - accuracy: 0.7244 - val_loss: 0.8041 - val_accuracy: 0.7317\n",
            "Epoch 25/80\n",
            "1250/1250 [==============================] - 9s 7ms/step - loss: 0.8612 - accuracy: 0.7260 - val_loss: 0.7680 - val_accuracy: 0.7487\n",
            "Epoch 26/80\n",
            "1250/1250 [==============================] - 10s 8ms/step - loss: 0.8526 - accuracy: 0.7309 - val_loss: 0.8109 - val_accuracy: 0.7306\n",
            "Epoch 27/80\n",
            "1250/1250 [==============================] - 9s 7ms/step - loss: 0.8499 - accuracy: 0.7302 - val_loss: 0.8165 - val_accuracy: 0.7315\n",
            "Epoch 28/80\n",
            "1250/1250 [==============================] - 9s 7ms/step - loss: 0.8374 - accuracy: 0.7358 - val_loss: 0.8023 - val_accuracy: 0.7390\n",
            "Epoch 29/80\n",
            "1250/1250 [==============================] - 9s 7ms/step - loss: 0.8251 - accuracy: 0.7375 - val_loss: 0.8056 - val_accuracy: 0.7376\n",
            "Epoch 30/80\n",
            "1250/1250 [==============================] - 9s 7ms/step - loss: 0.8233 - accuracy: 0.7377 - val_loss: 0.7470 - val_accuracy: 0.7584\n",
            "Epoch 31/80\n",
            "1250/1250 [==============================] - 9s 7ms/step - loss: 0.8187 - accuracy: 0.7388 - val_loss: 0.7620 - val_accuracy: 0.7541\n",
            "Epoch 32/80\n",
            "1250/1250 [==============================] - 10s 8ms/step - loss: 0.8167 - accuracy: 0.7431 - val_loss: 0.7972 - val_accuracy: 0.7435\n",
            "Epoch 33/80\n",
            "1250/1250 [==============================] - 10s 8ms/step - loss: 0.8068 - accuracy: 0.7444 - val_loss: 0.7453 - val_accuracy: 0.7575\n",
            "Epoch 34/80\n",
            "1250/1250 [==============================] - 10s 8ms/step - loss: 0.8008 - accuracy: 0.7480 - val_loss: 0.7659 - val_accuracy: 0.7500\n",
            "Epoch 35/80\n",
            "1250/1250 [==============================] - 10s 8ms/step - loss: 0.7946 - accuracy: 0.7505 - val_loss: 0.7971 - val_accuracy: 0.7395\n",
            "Epoch 36/80\n",
            "1250/1250 [==============================] - 9s 7ms/step - loss: 0.7876 - accuracy: 0.7508 - val_loss: 0.8367 - val_accuracy: 0.7282\n",
            "Epoch 37/80\n",
            "1250/1250 [==============================] - 10s 8ms/step - loss: 0.7778 - accuracy: 0.7563 - val_loss: 0.7520 - val_accuracy: 0.7556\n",
            "Epoch 38/80\n",
            "1250/1250 [==============================] - 11s 9ms/step - loss: 0.7816 - accuracy: 0.7549 - val_loss: 0.7306 - val_accuracy: 0.7605\n",
            "Epoch 39/80\n",
            "1250/1250 [==============================] - 10s 8ms/step - loss: 0.7700 - accuracy: 0.7569 - val_loss: 0.7995 - val_accuracy: 0.7373\n",
            "Epoch 40/80\n",
            "1250/1250 [==============================] - 11s 9ms/step - loss: 0.7694 - accuracy: 0.7577 - val_loss: 0.7692 - val_accuracy: 0.7547\n",
            "Epoch 41/80\n",
            "1250/1250 [==============================] - 9s 7ms/step - loss: 0.7658 - accuracy: 0.7623 - val_loss: 0.7258 - val_accuracy: 0.7681\n",
            "Epoch 42/80\n",
            "1250/1250 [==============================] - 10s 8ms/step - loss: 0.7616 - accuracy: 0.7617 - val_loss: 0.7478 - val_accuracy: 0.7593\n",
            "Epoch 43/80\n",
            "1250/1250 [==============================] - 10s 8ms/step - loss: 0.7574 - accuracy: 0.7645 - val_loss: 0.7259 - val_accuracy: 0.7646\n",
            "Epoch 44/80\n",
            "1250/1250 [==============================] - 9s 8ms/step - loss: 0.7473 - accuracy: 0.7657 - val_loss: 0.7518 - val_accuracy: 0.7549\n",
            "Epoch 45/80\n",
            "1250/1250 [==============================] - 9s 7ms/step - loss: 0.7440 - accuracy: 0.7685 - val_loss: 0.7379 - val_accuracy: 0.7613\n",
            "Epoch 46/80\n",
            "1250/1250 [==============================] - 9s 7ms/step - loss: 0.7420 - accuracy: 0.7696 - val_loss: 0.7203 - val_accuracy: 0.7657\n",
            "Epoch 47/80\n",
            "1250/1250 [==============================] - 10s 8ms/step - loss: 0.7395 - accuracy: 0.7696 - val_loss: 0.7606 - val_accuracy: 0.7550\n",
            "Epoch 48/80\n",
            "1250/1250 [==============================] - 10s 8ms/step - loss: 0.7329 - accuracy: 0.7694 - val_loss: 0.7052 - val_accuracy: 0.7716\n",
            "Epoch 49/80\n",
            "1250/1250 [==============================] - 11s 9ms/step - loss: 0.7263 - accuracy: 0.7740 - val_loss: 0.7515 - val_accuracy: 0.7568\n",
            "Epoch 50/80\n",
            "1250/1250 [==============================] - 9s 7ms/step - loss: 0.7285 - accuracy: 0.7740 - val_loss: 0.7384 - val_accuracy: 0.7630\n",
            "Epoch 51/80\n",
            "1250/1250 [==============================] - 10s 8ms/step - loss: 0.7255 - accuracy: 0.7750 - val_loss: 0.7112 - val_accuracy: 0.7720\n",
            "Epoch 52/80\n",
            "1250/1250 [==============================] - 10s 8ms/step - loss: 0.7189 - accuracy: 0.7770 - val_loss: 0.7588 - val_accuracy: 0.7586\n",
            "Epoch 53/80\n",
            "1250/1250 [==============================] - 10s 8ms/step - loss: 0.7142 - accuracy: 0.7814 - val_loss: 0.7195 - val_accuracy: 0.7688\n",
            "Epoch 54/80\n",
            "1250/1250 [==============================] - 9s 7ms/step - loss: 0.7199 - accuracy: 0.7778 - val_loss: 0.7716 - val_accuracy: 0.7558\n",
            "Epoch 55/80\n",
            "1250/1250 [==============================] - 9s 8ms/step - loss: 0.7077 - accuracy: 0.7811 - val_loss: 0.7659 - val_accuracy: 0.7517\n",
            "Epoch 56/80\n",
            "1250/1250 [==============================] - 9s 8ms/step - loss: 0.7157 - accuracy: 0.7796 - val_loss: 0.7705 - val_accuracy: 0.7506\n",
            "Epoch 57/80\n",
            "1250/1250 [==============================] - 10s 8ms/step - loss: 0.7040 - accuracy: 0.7813 - val_loss: 0.7145 - val_accuracy: 0.7692\n",
            "Epoch 58/80\n",
            "1250/1250 [==============================] - 10s 8ms/step - loss: 0.6988 - accuracy: 0.7871 - val_loss: 0.7309 - val_accuracy: 0.7681\n",
            "Epoch 59/80\n",
            "1250/1250 [==============================] - 9s 7ms/step - loss: 0.6997 - accuracy: 0.7825 - val_loss: 0.7617 - val_accuracy: 0.7568\n",
            "Epoch 60/80\n",
            "1250/1250 [==============================] - 10s 8ms/step - loss: 0.6871 - accuracy: 0.7864 - val_loss: 0.7377 - val_accuracy: 0.7655\n",
            "Epoch 61/80\n",
            "1250/1250 [==============================] - 9s 8ms/step - loss: 0.6970 - accuracy: 0.7857 - val_loss: 0.7476 - val_accuracy: 0.7553\n",
            "Epoch 62/80\n",
            "1250/1250 [==============================] - 9s 8ms/step - loss: 0.6943 - accuracy: 0.7856 - val_loss: 0.7282 - val_accuracy: 0.7732\n",
            "Epoch 63/80\n",
            "1250/1250 [==============================] - 9s 7ms/step - loss: 0.6901 - accuracy: 0.7865 - val_loss: 0.7290 - val_accuracy: 0.7660\n",
            "Epoch 64/80\n",
            "1250/1250 [==============================] - 9s 7ms/step - loss: 0.6864 - accuracy: 0.7881 - val_loss: 0.7631 - val_accuracy: 0.7614\n",
            "Epoch 65/80\n",
            "1250/1250 [==============================] - 9s 8ms/step - loss: 0.6808 - accuracy: 0.7895 - val_loss: 0.7090 - val_accuracy: 0.7783\n",
            "Epoch 66/80\n",
            "1250/1250 [==============================] - 10s 8ms/step - loss: 0.6864 - accuracy: 0.7887 - val_loss: 0.7176 - val_accuracy: 0.7729\n",
            "Epoch 67/80\n",
            "1250/1250 [==============================] - 9s 7ms/step - loss: 0.6713 - accuracy: 0.7925 - val_loss: 0.7064 - val_accuracy: 0.7782\n",
            "Epoch 68/80\n",
            "1250/1250 [==============================] - 10s 8ms/step - loss: 0.6773 - accuracy: 0.7917 - val_loss: 0.7275 - val_accuracy: 0.7673\n",
            "Epoch 69/80\n",
            "1250/1250 [==============================] - 10s 8ms/step - loss: 0.6765 - accuracy: 0.7915 - val_loss: 0.7592 - val_accuracy: 0.7591\n",
            "Epoch 70/80\n",
            "1250/1250 [==============================] - 10s 8ms/step - loss: 0.6771 - accuracy: 0.7928 - val_loss: 0.7139 - val_accuracy: 0.7783\n",
            "Epoch 71/80\n",
            "1250/1250 [==============================] - 9s 8ms/step - loss: 0.6677 - accuracy: 0.7964 - val_loss: 0.7227 - val_accuracy: 0.7673\n",
            "Epoch 72/80\n",
            "1250/1250 [==============================] - 9s 8ms/step - loss: 0.6734 - accuracy: 0.7936 - val_loss: 0.7398 - val_accuracy: 0.7692\n",
            "Epoch 73/80\n",
            "1250/1250 [==============================] - 9s 7ms/step - loss: 0.6629 - accuracy: 0.7996 - val_loss: 0.7273 - val_accuracy: 0.7688\n",
            "Epoch 74/80\n",
            "1250/1250 [==============================] - 9s 8ms/step - loss: 0.6638 - accuracy: 0.7990 - val_loss: 0.7302 - val_accuracy: 0.7751\n",
            "Epoch 75/80\n",
            "1250/1250 [==============================] - 10s 8ms/step - loss: 0.6571 - accuracy: 0.7994 - val_loss: 0.7075 - val_accuracy: 0.7802\n",
            "Epoch 76/80\n",
            "1250/1250 [==============================] - 9s 7ms/step - loss: 0.6683 - accuracy: 0.7950 - val_loss: 0.7531 - val_accuracy: 0.7624\n",
            "Epoch 77/80\n",
            "1250/1250 [==============================] - 10s 8ms/step - loss: 0.6564 - accuracy: 0.7993 - val_loss: 0.7381 - val_accuracy: 0.7726\n",
            "Epoch 78/80\n",
            "1250/1250 [==============================] - 10s 8ms/step - loss: 0.6579 - accuracy: 0.8006 - val_loss: 0.7355 - val_accuracy: 0.7718\n",
            "Epoch 79/80\n",
            "1250/1250 [==============================] - 10s 8ms/step - loss: 0.6540 - accuracy: 0.8008 - val_loss: 0.7208 - val_accuracy: 0.7749\n",
            "Epoch 80/80\n",
            "1250/1250 [==============================] - 9s 7ms/step - loss: 0.6426 - accuracy: 0.8058 - val_loss: 0.7116 - val_accuracy: 0.7757\n"
          ]
        }
      ],
      "source": [
        "# training/fitting of the complex DNN model \n",
        "#history = model.fit(input_X_train, output_Y_train, batch_size=BATCH_SIZE, epochs=N_EPOCH, validation_split=VALIDATION_SPLIT,  verbose=VERBOSE)\n",
        "history = model.fit(x_train_gen, y_train_gen, batch_size=BATCH_SIZE, epochs=N_EPOCH, validation_split=VALIDATION_SPLIT,  verbose=VERBOSE)\n"
      ]
    },
    {
      "cell_type": "markdown",
      "metadata": {
        "id": "hhkax6pXIpkT"
      },
      "source": [
        "**Analysis of the Deeper CNN results**\n",
        "\n",
        "This generates the test scores and plots for the new, deeper DNN.\n"
      ]
    },
    {
      "cell_type": "code",
      "execution_count": 19,
      "metadata": {
        "colab": {
          "base_uri": "https://localhost:8080/",
          "height": 1000
        },
        "id": "FfRvK-lUIpkU",
        "outputId": "8b68b110-9fcb-49a0-f03b-4a87b40f663d"
      },
      "outputs": [
        {
          "output_type": "stream",
          "name": "stdout",
          "text": [
            "313/313 [==============================] - 1s 4ms/step - loss: 0.7164 - accuracy: 0.7726\n",
            "\n",
            "Test score/loss: 0.7163718938827515\n",
            "Test accuracy: 0.772599995136261\n",
            "dict_keys(['loss', 'accuracy', 'val_loss', 'val_accuracy'])\n"
          ]
        },
        {
          "output_type": "display_data",
          "data": {
            "text/plain": [
              "<Figure size 640x480 with 1 Axes>"
            ],
            "image/png": "[encoded data removed]"
          },
          "metadata": {}
        },
        {
          "output_type": "display_data",
          "data": {
            "text/plain": [
              "<Figure size 640x480 with 1 Axes>"
            ],
            "image/png": "[encoded data removed]"
          },
          "metadata": {}
        }
      ],
      "source": [
        "#Testing\n",
        "#score = model.evaluate(input_X_test, output_Y_test, batch_size=BATCH_SIZE, verbose=VERBOSE)\n",
        "score = model.evaluate(x_test_gen, y_test_gen, batch_size=BATCH_SIZE, verbose=VERBOSE)\n",
        "print(\"\\nTest score/loss:\", score[0])\n",
        "print('Test accuracy:', score[1])\n",
        "\n",
        "# list all data in history\n",
        "print(history.history.keys())\n",
        "\n",
        "# summarize history for accuracy\n",
        "#plt.plot(mo)\n",
        "plt.plot(history.history['accuracy'])\n",
        "plt.plot(history.history['val_accuracy'])\n",
        "plt.title('model accuracy')\n",
        "plt.ylabel('accuracy')\n",
        "plt.xlabel('epoch')\n",
        "plt.legend(['train', 'test'], loc='upper left')\n",
        "plt.show()\n",
        "\n",
        "# summarize history for loss\n",
        "plt.plot(history.history['loss'])\n",
        "plt.plot(history.history['val_loss'])\n",
        "plt.title('model loss')\n",
        "plt.ylabel('loss')\n",
        "plt.xlabel('epoch')\n",
        "plt.legend(['train', 'test'], loc='upper left')\n",
        "plt.show()"
      ]
    },
    {
      "cell_type": "markdown",
      "metadata": {
        "id": "v-Mzs-L7IpkZ"
      },
      "source": [
        "Data Augmentation\n",
        "-------------\n",
        "\n",
        "To further improve the performance of the model, it is advisable to use a larger training set, to expose the network to more variations of the images.\n",
        "One way to achieve this, without having to collect new images from the real world, is to __augment__ the existing images with multiple types of transformations of the dataset stimuli. This can include rotation of the image, rescaling, horizontal/vertical flip, zooming, channel shift, etc.\n",
        "\n",
        "Below is an example of the code that augments the current datase.\n",
        "\n",
        "\n"
      ]
    },
    {
      "cell_type": "code",
      "execution_count": null,
      "metadata": {
        "colab": {
          "base_uri": "https://localhost:8080/"
        },
        "id": "-85_nYLXIpkZ",
        "outputId": "5a395f4a-4765-4dbc-ee9b-e7df04a05705"
      },
      "outputs": [
        {
          "output_type": "stream",
          "name": "stdout",
          "text": [
            "Augmenting training set images...\n"
          ]
        }
      ],
      "source": [
        "from tensorflow.keras.preprocessing.image import ImageDataGenerator\n",
        "#from keras.datasets import cifar10\n",
        "\n",
        "#load dataset\n",
        "#(input_X_train, output_y_train), (input_X_test, output_y_test) = cifar10.load_data()\n",
        "\n",
        "# augumenting\n",
        "print(\"Augmenting training set images...\")\n",
        "    \n",
        "datagen = ImageDataGenerator(\n",
        "   rotation_range=40,\n",
        "   width_shift_range=0.2,\n",
        "   height_shift_range=0.2,\n",
        "   zoom_range=0.2,\n",
        "   horizontal_flip=True,\n",
        "   fill_mode='nearest')\n",
        "\n",
        "# rotation_range is a value in degrees (0 - 180) for randomly rotating pictures\n",
        "# width_shift and height_shift are ranges for randomly translating pictures vertically or horizontally\n",
        "# zoom_range is for randomly zooming pictures \n",
        "# horizontal_flip is for randomly flipping the images horizontally\n",
        "# fill_mode fills in new pixels that can appear after a rotation or a shift\n"
      ]
    },
    {
      "cell_type": "markdown",
      "metadata": {
        "id": "yWIpifR4Ipkc"
      },
      "source": [
        "__Training with augmented data__\n",
        "\n",
        "The function below used the dynamic generation of the augmented data during the training (just in time)."
      ]
    },
    {
      "cell_type": "code",
      "execution_count": null,
      "metadata": {
        "colab": {
          "base_uri": "https://localhost:8080/"
        },
        "id": "kd_JgZM9Ipkd",
        "outputId": "a1ba44e7-87da-40a8-8aee-6fdcb702bf00"
      },
      "outputs": [
        {
          "output_type": "stream",
          "name": "stdout",
          "text": [
            "Epoch 1/2\n"
          ]
        },
        {
          "output_type": "stream",
          "name": "stderr",
          "text": [
            "<ipython-input-17-27f0d892da1d>:6: UserWarning: `Model.fit_generator` is deprecated and will be removed in a future version. Please use `Model.fit`, which supports generators.\n",
            "  history = model.fit_generator(datagen.flow(input_X_train, output_Y_train, batch_size=BATCH_SIZE), steps_per_epoch=input_X_train.shape[0]//BATCH_SIZE, epochs=N_EPOCH, verbose=VERBOSE)\n"
          ]
        },
        {
          "output_type": "stream",
          "name": "stdout",
          "text": [
            "390/390 [==============================] - 33s 84ms/step - loss: 1.7518 - accuracy: 0.3607\n",
            "Epoch 2/2\n",
            "390/390 [==============================] - 31s 80ms/step - loss: 1.6588 - accuracy: 0.3969\n"
          ]
        }
      ],
      "source": [
        "\n",
        "#fit the dataset\n",
        "datagen.fit(input_X_train)\n",
        "\n",
        "\n",
        "# train by fitting the model on batches with real-time data augmentation\n",
        "history = model.fit_generator(datagen.flow(input_X_train, output_Y_train, batch_size=BATCH_SIZE), steps_per_epoch=input_X_train.shape[0]//BATCH_SIZE, epochs=N_EPOCH, verbose=VERBOSE)\n",
        "\n"
      ]
    },
    {
      "cell_type": "markdown",
      "metadata": {
        "id": "Y0ZLORlPIpkh"
      },
      "source": [
        "**Analysis of the Data Augmented, Deeper CNN results**\n",
        "\n",
        "This generates the test scores and plots for the deeper DNN trained on the augmented data."
      ]
    },
    {
      "cell_type": "code",
      "execution_count": null,
      "metadata": {
        "colab": {
          "base_uri": "https://localhost:8080/",
          "height": 660
        },
        "id": "BxZG9aM2Ipki",
        "outputId": "f933118e-27aa-4a70-ac96-e2313d2e435a"
      },
      "outputs": [
        {
          "output_type": "stream",
          "name": "stdout",
          "text": [
            "79/79 [==============================] - 0s 6ms/step - loss: 1.3647 - accuracy: 0.4979\n",
            "\n",
            "Test score/loss: 1.3647339344024658\n",
            "Test accuracy: 0.49790000915527344\n",
            "dict_keys(['loss', 'accuracy'])\n"
          ]
        },
        {
          "output_type": "display_data",
          "data": {
            "text/plain": [
              "<Figure size 432x288 with 1 Axes>"
            ],
            "image/png": "[encoded data removed]"
          },
          "metadata": {
            "needs_background": "light"
          }
        },
        {
          "output_type": "display_data",
          "data": {
            "text/plain": [
              "<Figure size 432x288 with 1 Axes>"
            ],
            "image/png": "[encoded data removed]"
          },
          "metadata": {
            "needs_background": "light"
          }
        }
      ],
      "source": [
        "#Testing\n",
        "score = model.evaluate(input_X_test, output_Y_test, batch_size=BATCH_SIZE, verbose=VERBOSE)\n",
        "print(\"\\nTest score/loss:\", score[0])\n",
        "print('Test accuracy:', score[1])\n",
        "\n",
        "# list all data in history\n",
        "print(history.history.keys())\n",
        "\n",
        "# summarize history for accuracy\n",
        "#plt.plot(mo)\n",
        "plt.plot(history.history['accuracy'])\n",
        "plt.title('model accuracy')\n",
        "plt.ylabel('accuracy')\n",
        "plt.xlabel('epoch')\n",
        "plt.legend(['train', 'test'], loc='upper left')\n",
        "plt.show()\n",
        "\n",
        "# summarize history for loss\n",
        "plt.plot(history.history['loss'])\n",
        "plt.title('model loss')\n",
        "plt.ylabel('loss')\n",
        "plt.xlabel('epoch')\n",
        "plt.legend(['train', 'test'], loc='upper left')\n",
        "plt.show()\n",
        "\n"
      ]
    },
    {
      "cell_type": "markdown",
      "metadata": {
        "id": "4Bwi-kLYIpkl"
      },
      "source": [
        "Below is a commented different example of a data augmentation approach. \n",
        "\n",
        "But we have carried out plenty of slow, long simulations for this class, and we can stop here."
      ]
    },
    {
      "cell_type": "code",
      "execution_count": null,
      "metadata": {
        "id": "q_JAWfc4Ipkm"
      },
      "outputs": [],
      "source": [
        "\n",
        "from tensorflow.keras.preprocessing.image import ImageDataGenerator\n",
        "\n",
        "datagen = ImageDataGenerator(\n",
        "        featurewise_center=False,  # set input mean to 0 over the dataset\n",
        "        samplewise_center=False,  # set each sample mean to 0\n",
        "        featurewise_std_normalization=False,  # divide inputs by std of the dataset\n",
        "        samplewise_std_normalization=False,  # divide each input by its std\n",
        "        zca_whitening=False,  # apply ZCA whitening\n",
        "        rotation_range=0,  # randomly rotate images in the range (degrees, 0 to 180)\n",
        "        width_shift_range=0.1,  # randomly shift images horizontally (fraction of total width)\n",
        "        height_shift_range=0.1,  # randomly shift images vertically (fraction of total height)\n",
        "        horizontal_flip=True,  # randomly flip images\n",
        "        vertical_flip=False)  # randomly flip images\n",
        "\n",
        "datagen.fit(input_X_train)"
      ]
    },
    {
      "cell_type": "markdown",
      "metadata": {
        "id": "ouCjBST_Ipkq"
      },
      "source": [
        "Conclusions\n",
        "-------------\n",
        "\n",
        "Today we learned to train more complex DNNs, and to use data augmentation to further improve the network training and performance.\n",
        "\n",
        "**Copyright (c)** 2022 Angelo Cangelosi, MIT License. Code and examples adapted from Gulli & Pal (2017) Deep Learning with Kera. Punkt Publishing. With support from Wenjie Huang."
      ]
    }
  ],
  "metadata": {
    "accelerator": "GPU",
    "colab": {
      "provenance": []
    },
    "kernelspec": {
      "display_name": "Python 3 (ipykernel)",
      "language": "python",
      "name": "python3"
    },
    "language_info": {
      "codemirror_mode": {
        "name": "ipython",
        "version": 3
      },
      "file_extension": ".py",
      "mimetype": "text/x-python",
      "name": "python",
      "nbconvert_exporter": "python",
      "pygments_lexer": "ipython3",
      "version": "3.9.7"
    }
  },
  "nbformat": 4,
  "nbformat_minor": 0
}